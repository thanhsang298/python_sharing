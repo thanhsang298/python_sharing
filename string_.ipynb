{
 "cells": [
  {
   "cell_type": "markdown",
   "metadata": {},
   "source": [
    "# String"
   ]
  },
  {
   "cell_type": "markdown",
   "metadata": {},
   "source": [
    "## Khởi tạo"
   ]
  },
  {
   "cell_type": "code",
   "execution_count": 10,
   "metadata": {},
   "outputs": [],
   "source": [
    "s1 = 'python'"
   ]
  },
  {
   "cell_type": "code",
   "execution_count": 11,
   "metadata": {},
   "outputs": [],
   "source": [
    "s2 = \"python\""
   ]
  },
  {
   "cell_type": "code",
   "execution_count": null,
   "metadata": {},
   "outputs": [],
   "source": [
    "s3 = 'Hôm nay là ngày 'đặc biệt''\n",
    "s3 = 'Hôm nay là ngày \"đặc biệt\"'"
   ]
  },
  {
   "cell_type": "code",
   "execution_count": 13,
   "metadata": {},
   "outputs": [],
   "source": [
    "s3 = '''python'''"
   ]
  },
  {
   "cell_type": "code",
   "execution_count": null,
   "metadata": {},
   "outputs": [],
   "source": [
    "s4 = \"\"\"python\"\"\""
   ]
  },
  {
   "cell_type": "markdown",
   "metadata": {},
   "source": [
    "`Docstring`"
   ]
  },
  {
   "cell_type": "code",
   "execution_count": null,
   "metadata": {},
   "outputs": [],
   "source": [
    "    \"\"\"\n",
    "    This function abc\n",
    "    parameter:\n",
    "    output:\n",
    "    \"\"\""
   ]
  },
  {
   "cell_type": "markdown",
   "metadata": {},
   "source": [
    "`Escape sequence`"
   ]
  },
  {
   "cell_type": "markdown",
   "metadata": {},
   "source": [
    "`\\n \\t \\\\ \\\" \\'`"
   ]
  },
  {
   "cell_type": "code",
   "execution_count": 16,
   "metadata": {},
   "outputs": [],
   "source": [
    "s_newline = \"Hôm nay là thứ mấy\\nChắc chắn là thứ 2\""
   ]
  },
  {
   "cell_type": "code",
   "execution_count": 24,
   "metadata": {},
   "outputs": [
    {
     "name": "stdout",
     "output_type": "stream",
     "text": [
      "Hôm nay là ngày 'đặc biệt'\n"
     ]
    }
   ],
   "source": [
    "s = 'Hôm nay là ngày \\'đặc biệt\\''"
   ]
  },
  {
   "cell_type": "markdown",
   "metadata": {},
   "source": [
    "`Chuỗi trần: không quan tâm escape sequence`"
   ]
  },
  {
   "cell_type": "code",
   "execution_count": null,
   "metadata": {},
   "outputs": [],
   "source": [
    "s = \"E:\\Data\\test.py\"\n",
    "print(s)\n",
    "s = r\"E:\\Data\\test.py\"\n",
    "print(s)"
   ]
  },
  {
   "cell_type": "markdown",
   "metadata": {},
   "source": [
    "## Toán tử"
   ]
  },
  {
   "cell_type": "code",
   "execution_count": null,
   "metadata": {},
   "outputs": [],
   "source": [
    "# Toán tử  + : nối chuỗi\n",
    "s1 = \"Tôi tên là\"\n",
    "s2 = \"Sang\"\n",
    "s1 + s2 "
   ]
  },
  {
   "cell_type": "code",
   "execution_count": null,
   "metadata": {},
   "outputs": [],
   "source": [
    "# Toán tử  * :\n",
    "s1 = \"2, 3 dzo\"\n",
    "s1 * 3"
   ]
  },
  {
   "cell_type": "code",
   "execution_count": null,
   "metadata": {},
   "outputs": [],
   "source": [
    "# Toán tử  in :\n",
    "s1 = \"2, 3 dzo\"\n",
    "3 in s1 "
   ]
  },
  {
   "cell_type": "markdown",
   "metadata": {},
   "source": [
    "## Indexing"
   ]
  },
  {
   "cell_type": "code",
   "execution_count": null,
   "metadata": {},
   "outputs": [],
   "source": [
    "s = \"xin chao cac ban\"\n",
    "len(s)\n",
    "s[0]\n",
    "s[1]\n",
    "s[-1]\n",
    "s[:]\n",
    "s[::]\n",
    "s[::2]\n",
    "s[::-1]"
   ]
  },
  {
   "cell_type": "code",
   "execution_count": null,
   "metadata": {},
   "outputs": [],
   "source": [
    "s[1] = '1'"
   ]
  },
  {
   "cell_type": "markdown",
   "metadata": {},
   "source": [
    "## Định dạng"
   ]
  },
  {
   "cell_type": "markdown",
   "metadata": {},
   "source": [
    "`%`"
   ]
  },
  {
   "cell_type": "code",
   "execution_count": 36,
   "metadata": {},
   "outputs": [
    {
     "name": "stdout",
     "output_type": "stream",
     "text": [
      "phan_tram_f: 1998.678900000000\n"
     ]
    }
   ],
   "source": [
    "phan_tram_f = '%.f' %(1998.6789)\n",
    "print('phan_tram_f:', phan_tram_f)"
   ]
  },
  {
   "cell_type": "markdown",
   "metadata": {},
   "source": [
    "`f-string`"
   ]
  },
  {
   "cell_type": "code",
   "execution_count": null,
   "metadata": {},
   "outputs": [],
   "source": [
    "name = 'Sang-Nguyen Thanh'\n",
    "born = '1998'\n",
    "phone = '0965304687'\n",
    "f_string = f'\\tName: {name}\\n\\tBorn: {born}\\n\\tPhone: {phone}'\n",
    "print('Information:\\n', f_string)"
   ]
  },
  {
   "cell_type": "markdown",
   "metadata": {},
   "source": [
    "`format()`"
   ]
  },
  {
   "cell_type": "code",
   "execution_count": null,
   "metadata": {},
   "outputs": [],
   "source": [
    "dinh_dang_format1 = '\\tName: {}\\n\\tBorn: {}'.format('Sang', 1998)\n",
    "# dinh_dang_format2 = '\\tName: {1}\\n\\tBorn: {0}'.format(1998, 'Sang')\n",
    "print('Information:\\n', dinh_dang_format1)"
   ]
  },
  {
   "cell_type": "markdown",
   "metadata": {},
   "source": [
    "## Methods"
   ]
  },
  {
   "cell_type": "code",
   "execution_count": 50,
   "metadata": {},
   "outputs": [
    {
     "data": {
      "text/plain": [
       "'Tôi tên là Sang'"
      ]
     },
     "execution_count": 50,
     "metadata": {},
     "output_type": "execute_result"
    }
   ],
   "source": [
    "name = \"Tôi tên là Sang\"\n",
    "name.replace(\"Sang\", \"Hung\")\n",
    "name"
   ]
  },
  {
   "cell_type": "code",
   "execution_count": 52,
   "metadata": {},
   "outputs": [
    {
     "data": {
      "text/plain": [
       "'hello'"
      ]
     },
     "execution_count": 52,
     "metadata": {},
     "output_type": "execute_result"
    }
   ],
   "source": [
    "s = \"hello@@I'm fine\"\n",
    "t = s.split(\"@@\")\n",
    "a,b = t \n",
    "t"
   ]
  },
  {
   "cell_type": "code",
   "execution_count": 1,
   "metadata": {},
   "outputs": [
    {
     "data": {
      "text/plain": [
       "True"
      ]
     },
     "execution_count": 1,
     "metadata": {},
     "output_type": "execute_result"
    }
   ],
   "source": [
    "s = \"hello@@I'm fine\"\n",
    "s.startswith(\"\")\n",
    "s.endswith(\"e\")"
   ]
  },
  {
   "cell_type": "code",
   "execution_count": null,
   "metadata": {},
   "outputs": [],
   "source": [
    "\",\".join(str(x) for x in range(4))"
   ]
  },
  {
   "cell_type": "markdown",
   "metadata": {},
   "source": [
    "`Phương thức biến đổi`"
   ]
  },
  {
   "cell_type": "code",
   "execution_count": null,
   "metadata": {},
   "outputs": [],
   "source": [
    "name = 'thanh sang'\n",
    "print('name: ', name)\n",
    "print('### Phương thức biến đổi ###')\n",
    "cap_name = name.capitalize()\n",
    "upper_name = name.upper()\n",
    "lower_name = name.lower()\n",
    "swap_name = name.swapcase()\n",
    "title_name = name.title()\n",
    "print(\"* capitalize_name: \", cap_name)\n",
    "print(\"* upper_name: \", upper_name)\n",
    "print(\"* lower_name: \", lower_name)\n",
    "print(\"* swap_name: \", swap_name)\n",
    "print(\"* title_name: \", title_name)"
   ]
  },
  {
   "cell_type": "markdown",
   "metadata": {},
   "source": [
    "`Phương thức định dạng`"
   ]
  },
  {
   "cell_type": "code",
   "execution_count": null,
   "metadata": {},
   "outputs": [],
   "source": [
    "print('### Phương thức định dạng ###')\n",
    "name = 'thanh sang'\n",
    "center_name = name.center(20,'*')\n",
    "right_name = name.rjust(20,'*')\n",
    "left_name = name.ljust(20,'*')\n",
    "print('* center_name:', center_name)\n",
    "print('* right_name:', right_name)\n",
    "print('* left_name:', left_name)"
   ]
  },
  {
   "cell_type": "markdown",
   "metadata": {},
   "source": [
    "`Phương thức xử lý`"
   ]
  },
  {
   "cell_type": "code",
   "execution_count": null,
   "metadata": {},
   "outputs": [],
   "source": [
    "print('### Phương thức xử lý ###')\n",
    "name = 'thanh sang'\n",
    "# Trong Python, tất cả 'string internal' đều thuôc kiểu UNICODE\n",
    "encode_name = name.encode(encoding='utf-8', errors='strict')\n",
    "print('* type of encoded name:', type(encode_name))\n",
    "test_str = 'còn gì nữa đâu mà khóc với sầu'\n",
    "encode_str = test_str.encode(encoding='utf-8', errors='strict')\n",
    "print('* encoded_str:', encode_str)"
   ]
  },
  {
   "cell_type": "code",
   "execution_count": null,
   "metadata": {},
   "outputs": [],
   "source": [
    "fixed_name = '   Nguyen Thanh Sang   '\n",
    "strip_name = fixed_name.strip()\n",
    "lstrip_name = fixed_name.lstrip()\n",
    "rstrip_name = fixed_name.rstrip()\n",
    "print(\"* strip_name:\", strip_name)\n",
    "print(\"* lstrip_name:\", lstrip_name)\n",
    "print(\"* rstrip_name:\",rstrip_name)"
   ]
  },
  {
   "cell_type": "code",
   "execution_count": null,
   "metadata": {},
   "outputs": [],
   "source": [
    "print('%%%%SANGGGG%%%'.strip('%'))\n",
    "print('cababHowbaaaca'.strip('abc'))"
   ]
  },
  {
   "cell_type": "markdown",
   "metadata": {},
   "source": [
    "`Phương thức xác thực: True or False`"
   ]
  },
  {
   "cell_type": "code",
   "execution_count": null,
   "metadata": {},
   "outputs": [],
   "source": [
    "name = \"sang\"\n",
    "name.islower()\n",
    "name.isupper()\n",
    "name.istitle()\n",
    "name.isdigit()\n",
    "name.isspace()"
   ]
  },
  {
   "cell_type": "markdown",
   "metadata": {},
   "source": [
    "`Phương thức tiện ích`"
   ]
  },
  {
   "cell_type": "code",
   "execution_count": null,
   "metadata": {},
   "outputs": [],
   "source": [
    "print('### Các phương thức tiện ích ###')\n",
    "name = \"Saang\"\n",
    "count_name = name.count('a')\n",
    "print(\"count:\", count_name)\n",
    "print(name.startswith(\"s\"))\n",
    "print(name.endswith(\"s\"))\n",
    "print(name.find(\"H\"))   #ko có index thì trả về -1\n",
    "print(name.index(\"H\")) #lỗi nếu ko tìm ra index"
   ]
  }
 ],
 "metadata": {
  "kernelspec": {
   "display_name": "pytorch_dl",
   "language": "python",
   "name": "pytorch_dl"
  },
  "language_info": {
   "codemirror_mode": {
    "name": "ipython",
    "version": 3
   },
   "file_extension": ".py",
   "mimetype": "text/x-python",
   "name": "python",
   "nbconvert_exporter": "python",
   "pygments_lexer": "ipython3",
   "version": "3.8.16"
  },
  "orig_nbformat": 4
 },
 "nbformat": 4,
 "nbformat_minor": 2
}
