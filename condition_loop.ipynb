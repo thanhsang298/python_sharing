{
 "cells": [
  {
   "cell_type": "markdown",
   "metadata": {},
   "source": [
    "## Điều kiện"
   ]
  },
  {
   "cell_type": "markdown",
   "metadata": {},
   "source": [
    "`If-else`"
   ]
  },
  {
   "cell_type": "code",
   "execution_count": 2,
   "metadata": {},
   "outputs": [
    {
     "name": "stdout",
     "output_type": "stream",
     "text": [
      "Đúng\n"
     ]
    }
   ],
   "source": [
    "a = 1\n",
    "b = 2\n",
    "if b>a:\n",
    "    print(\"Đúng\")\n",
    "else:\n",
    "    print(\"Sai\")"
   ]
  },
  {
   "cell_type": "markdown",
   "metadata": {},
   "source": [
    "`If-elif-else`"
   ]
  },
  {
   "cell_type": "code",
   "execution_count": 3,
   "metadata": {},
   "outputs": [
    {
     "name": "stdout",
     "output_type": "stream",
     "text": [
      "PLUS\n"
     ]
    }
   ],
   "source": [
    "a = \"+\"\n",
    "if a == '+':\n",
    "    op = \"PLUS\"\n",
    "elif a == '-':\n",
    "    op = \"MINUS\"\n",
    "elif a == '*':\n",
    "    op = \"TIMES\"\n",
    "else:\n",
    "    op = \"UNKNOWN\"\n",
    "print(op)"
   ]
  },
  {
   "cell_type": "markdown",
   "metadata": {},
   "source": [
    "`Relations: < > <= >= == !=`"
   ]
  },
  {
   "cell_type": "markdown",
   "metadata": {},
   "source": [
    "`Boolean expressions (and, or, not)`"
   ]
  },
  {
   "cell_type": "code",
   "execution_count": 9,
   "metadata": {},
   "outputs": [
    {
     "name": "stdout",
     "output_type": "stream",
     "text": [
      "b is between a and c\n",
      "b is still between a and c\n",
      "b is still between a and c\n"
     ]
    }
   ],
   "source": [
    "a = 2\n",
    "b = 3\n",
    "c = 4\n",
    "if b >= a and b <= c:\n",
    "    print('b is between a and c')\n",
    "if not (b < a or b > c):\n",
    "    print('b is still between a and c')\n",
    "if not b < a or b > c:\n",
    "    print('b is still between a and c')\n",
    "if not b < a and b > c:\n",
    "    print('b is still between a and c')\n"
   ]
  },
  {
   "cell_type": "markdown",
   "metadata": {},
   "source": [
    "`in operator`"
   ]
  },
  {
   "cell_type": "code",
   "execution_count": 10,
   "metadata": {},
   "outputs": [
    {
     "name": "stdout",
     "output_type": "stream",
     "text": [
      "Đúng\n"
     ]
    }
   ],
   "source": [
    "if 1 in [1,2,3,4,5]:\n",
    "    print(\"Đúng\")\n",
    "else:\n",
    "    print(\"Sai\")"
   ]
  },
  {
   "cell_type": "markdown",
   "metadata": {},
   "source": [
    "`Tất cả những giá trị != 0`"
   ]
  },
  {
   "cell_type": "code",
   "execution_count": 11,
   "metadata": {},
   "outputs": [
    {
     "name": "stdout",
     "output_type": "stream",
     "text": [
      "list có giá trị\n"
     ]
    }
   ],
   "source": [
    "lst = [1,2,3,4,5]\n",
    "if lst:\n",
    "    print(\"list có giá trị\")\n",
    "else:\n",
    "    print(\"list ko chứa giá trị\")"
   ]
  },
  {
   "cell_type": "markdown",
   "metadata": {},
   "source": [
    "`Code ngắn gọn hơn với if-else`"
   ]
  },
  {
   "cell_type": "code",
   "execution_count": 15,
   "metadata": {},
   "outputs": [
    {
     "name": "stdout",
     "output_type": "stream",
     "text": [
      "[101]\n"
     ]
    }
   ],
   "source": [
    "lst = []\n",
    "lst.append(100) if lst else lst.append(101)\n",
    "print(lst)"
   ]
  },
  {
   "cell_type": "code",
   "execution_count": 16,
   "metadata": {},
   "outputs": [
    {
     "ename": "SyntaxError",
     "evalue": "invalid syntax (1284960494.py, line 2)",
     "output_type": "error",
     "traceback": [
      "\u001b[0;36m  Cell \u001b[0;32mIn[16], line 2\u001b[0;36m\u001b[0m\n\u001b[0;31m    match t:\u001b[0m\n\u001b[0m          ^\u001b[0m\n\u001b[0;31mSyntaxError\u001b[0m\u001b[0;31m:\u001b[0m invalid syntax\n"
     ]
    }
   ],
   "source": [
    "#SUPPORT python 3.10 trở lên#\n",
    "t = 5\n",
    "match t:\n",
    "    case 1: \n",
    "        print(\"t = 1\")\n",
    "    case 2: \n",
    "        print(\"t = 2\")\n",
    "    case 3: \n",
    "        print(\"t = 3\")\n",
    "    case _: \n",
    "        print(\"t > 3\")\n",
    "\n"
   ]
  },
  {
   "cell_type": "markdown",
   "metadata": {},
   "source": [
    "## Loop"
   ]
  },
  {
   "cell_type": "markdown",
   "metadata": {},
   "source": [
    "`The for-loop iterates over a sequence`"
   ]
  },
  {
   "cell_type": "code",
   "execution_count": null,
   "metadata": {},
   "outputs": [],
   "source": [
    "names = ['IBM', 'YHOO', 'AA', 'CAT' ]\n",
    "for name in names:\n",
    "    print(name)"
   ]
  },
  {
   "cell_type": "markdown",
   "metadata": {},
   "source": [
    "`Iterating on Tuples`"
   ]
  },
  {
   "cell_type": "code",
   "execution_count": null,
   "metadata": {},
   "outputs": [],
   "source": [
    "portfolio = [\n",
    " ('GOOG', 100, 490.1),\n",
    " ('IBM', 50, 91.1),\n",
    " ('CAT', 150, 83.44),\n",
    " ('IBM', 100, 45.23),\n",
    " ('GOOG', 75, 572.45),\n",
    " ('AA', 50, 23.15)\n",
    "]\n",
    "\n",
    "# Iteration with unpacking\n",
    "for name, shares, price in portfolio:\n",
    "    print()\n",
    "for name, _, price in portfolio:\n",
    "    print()"
   ]
  },
  {
   "cell_type": "markdown",
   "metadata": {},
   "source": [
    "`Iterating on Varying Records`"
   ]
  },
  {
   "cell_type": "code",
   "execution_count": null,
   "metadata": {},
   "outputs": [],
   "source": [
    "prices = [\n",
    "    ['GOOG', 490.1, 485.25, 487.5 ],\n",
    "    ['IBM', 91.5],\n",
    "    ['HPE', 13.75, 12.1, 13.25, 14.2, 13.5 ],\n",
    "    ['CAT', 52.5, 51.2]\n",
    "]\n",
    "for name, *values in prices:\n",
    "    print(name, values)"
   ]
  },
  {
   "cell_type": "markdown",
   "metadata": {},
   "source": [
    "`Iterating on Integers: range([start,] end [,step])`"
   ]
  },
  {
   "cell_type": "code",
   "execution_count": null,
   "metadata": {},
   "outputs": [],
   "source": [
    "# for i in range(100):\n",
    "# for j in range(10,20):    \n",
    "for k in range(10,50,2):\n",
    "    print(k)"
   ]
  },
  {
   "cell_type": "markdown",
   "metadata": {},
   "source": [
    "`using zip() function`"
   ]
  },
  {
   "cell_type": "code",
   "execution_count": null,
   "metadata": {},
   "outputs": [],
   "source": [
    "columns = ['name','shares','price']\n",
    "values = ['GOOG',100, 490.1 ]\n",
    "for colname, val in zip(columns, values):\n",
    "    pass"
   ]
  },
  {
   "cell_type": "markdown",
   "metadata": {},
   "source": [
    "`using enumerate() func`"
   ]
  },
  {
   "cell_type": "code",
   "execution_count": 2,
   "metadata": {},
   "outputs": [],
   "source": [
    "names = ['IBM', 'YHOO', 'CAT' ]\n",
    "for idx, name in enumerate(names):\n",
    "    pass"
   ]
  },
  {
   "cell_type": "markdown",
   "metadata": {},
   "source": [
    "## File"
   ]
  },
  {
   "cell_type": "code",
   "execution_count": 40,
   "metadata": {},
   "outputs": [
    {
     "data": {
      "text/plain": [
       "{'r': 'mở để đọc, default mode',\n",
       " 'r+': 'mở để đọc và ghi',\n",
       " 'w': 'mở để ghi, sẽ xóa ndung file hiện có. Nếu file ko tồn tại => tự tạo',\n",
       " 'w+': 'mở để ghi và đọc, sẽ xóa ndung file hiện có. Nếu file ko tồn tại => tự tạo',\n",
       " 'a': 'mở để ghi, file ko tồn tại => tự tạo',\n",
       " 'a+': 'mở để ghi và đọc, file ko tồn tại => tự tạo'}"
      ]
     },
     "execution_count": 40,
     "metadata": {},
     "output_type": "execute_result"
    }
   ],
   "source": [
    "mode_file = {\n",
    "    \"r\": \"mở để đọc, default mode\",\n",
    "    \"r+\": \"mở để đọc và ghi\",\n",
    "    \"w\": \"mở để ghi, sẽ xóa ndung file hiện có. Nếu file ko tồn tại => tự tạo\",\n",
    "    \"w+\": \"mở để ghi và đọc, sẽ xóa ndung file hiện có. Nếu file ko tồn tại => tự tạo\",\n",
    "    \"a\": \"mở để ghi, file ko tồn tại => tự tạo\",\n",
    "    \"a+\": \"mở để ghi và đọc, file ko tồn tại => tự tạo\"\n",
    "    \n",
    "}\n",
    "mode_file"
   ]
  },
  {
   "cell_type": "markdown",
   "metadata": {},
   "source": [
    "`mở file`"
   ]
  },
  {
   "cell_type": "code",
   "execution_count": 12,
   "metadata": {},
   "outputs": [
    {
     "data": {
      "text/plain": [
       "<_io.TextIOWrapper name='data/words.txt' mode='r' encoding='UTF-8'>"
      ]
     },
     "execution_count": 12,
     "metadata": {},
     "output_type": "execute_result"
    }
   ],
   "source": [
    "file_obj = open(\"data/words.txt\")\n",
    "file_obj "
   ]
  },
  {
   "cell_type": "markdown",
   "metadata": {},
   "source": [
    "`đóng file`"
   ]
  },
  {
   "cell_type": "code",
   "execution_count": 13,
   "metadata": {},
   "outputs": [],
   "source": [
    "file_obj.close()"
   ]
  },
  {
   "cell_type": "markdown",
   "metadata": {},
   "source": [
    "`đọc file`"
   ]
  },
  {
   "cell_type": "code",
   "execution_count": 38,
   "metadata": {},
   "outputs": [
    {
     "ename": "UnsupportedOperation",
     "evalue": "not readable",
     "output_type": "error",
     "traceback": [
      "\u001b[0;31m---------------------------------------------------------------------------\u001b[0m",
      "\u001b[0;31mUnsupportedOperation\u001b[0m                      Traceback (most recent call last)",
      "Cell \u001b[0;32mIn[38], line 2\u001b[0m\n\u001b[1;32m      1\u001b[0m file_obj \u001b[39m=\u001b[39m \u001b[39mopen\u001b[39m(\u001b[39m\"\u001b[39m\u001b[39mdata/words.txt\u001b[39m\u001b[39m\"\u001b[39m, \u001b[39m\"\u001b[39m\u001b[39mw\u001b[39m\u001b[39m\"\u001b[39m)\n\u001b[0;32m----> 2\u001b[0m data \u001b[39m=\u001b[39m file_obj\u001b[39m.\u001b[39;49mread()\n\u001b[1;32m      3\u001b[0m \u001b[39m# # data = file_obj.readline() \u001b[39;00m\n\u001b[1;32m      4\u001b[0m \u001b[39m# # data = file_obj.readlines()\u001b[39;00m\n\u001b[1;32m      5\u001b[0m \u001b[39m# data\u001b[39;00m\n",
      "\u001b[0;31mUnsupportedOperation\u001b[0m: not readable"
     ]
    }
   ],
   "source": [
    "file_obj = open(\"data/words.txt\")\n",
    "data = file_obj.read()\n",
    "# # data = file_obj.readline() \n",
    "# # data = file_obj.readlines()\n",
    "# data"
   ]
  },
  {
   "cell_type": "markdown",
   "metadata": {},
   "source": [
    "`Ghi file`"
   ]
  },
  {
   "cell_type": "code",
   "execution_count": 34,
   "metadata": {},
   "outputs": [],
   "source": [
    "file_obj = open(\"data/words.txt\", \"a\")\n",
    "file_obj.write('test')\n",
    "file_obj.close()"
   ]
  },
  {
   "cell_type": "markdown",
   "metadata": {},
   "source": [
    "`with block`"
   ]
  },
  {
   "cell_type": "code",
   "execution_count": 3,
   "metadata": {},
   "outputs": [
    {
     "data": {
      "text/plain": [
       "'a b c\\ne f g\\nk m n'"
      ]
     },
     "execution_count": 3,
     "metadata": {},
     "output_type": "execute_result"
    }
   ],
   "source": [
    "with open(\"data/words.txt\") as f:\n",
    "    data = f.read()\n",
    "data "
   ]
  },
  {
   "cell_type": "code",
   "execution_count": 1,
   "metadata": {},
   "outputs": [
    {
     "data": {
      "text/plain": [
       "'a b c\\ne f g\\nk m n'"
      ]
     },
     "execution_count": 1,
     "metadata": {},
     "output_type": "execute_result"
    }
   ],
   "source": [
    "with open(\"data/words.txt\", \"rb\") as f:\n",
    "    data = f.read()\n",
    "    data = data.decode('utf-8')\n",
    "data"
   ]
  },
  {
   "cell_type": "code",
   "execution_count": 4,
   "metadata": {},
   "outputs": [
    {
     "data": {
      "text/plain": [
       "{'relationship_type': 'side_effect_of',\n",
       " 'active_form': {'alternative': 'has_side_effect',\n",
       "  'definition': 'có tác dụng phụ là',\n",
       "  'switch': True,\n",
       "  'examples': [{'query': 'tác dụng phụ của thuốc metformin là gì',\n",
       "    'entities': ['thuốc metformin'],\n",
       "    'outputs': [['thuốc metformin', 'has_side_effect', '']]},\n",
       "   {'query': 'metformin có tác dụng phụ là buồn nôn đúng không',\n",
       "    'entities': ['metformin', 'buồn nôn'],\n",
       "    'outputs': [['metformin', 'has_side_effect', 'buồn nôn']]}]},\n",
       " 'passive_form': {'alternative': 'side_effect_of',\n",
       "  'definition': 'là tác dụng phụ của',\n",
       "  'examples': [{'query': 'chán ăn là tác dụng phụ của cái gì',\n",
       "    'entities': ['chán ăn'],\n",
       "    'outputs': [['chán ăn', 'side_effect_of', '']]},\n",
       "   {'query': 'tiêu chảy có phải là tác dụng phụ của metformin',\n",
       "    'entities': ['tiêu chảy', 'metformin'],\n",
       "    'outputs': [['tiêu chảy', 'side_effect_of', 'metformin']]}]}}"
      ]
     },
     "execution_count": 4,
     "metadata": {},
     "output_type": "execute_result"
    }
   ],
   "source": [
    "import json\n",
    "with open(\"data/examples.json\", \"rb\") as handle:\n",
    "    data = json.load(handle)\n",
    "data "
   ]
  },
  {
   "cell_type": "markdown",
   "metadata": {},
   "source": [
    "`csv file`"
   ]
  },
  {
   "cell_type": "code",
   "execution_count": null,
   "metadata": {},
   "outputs": [],
   "source": [
    "import csv \n",
    "with open('data/ctabus.csv') as f:\n",
    "    rows = csv.reader(f)\n",
    "    print(rows)\n",
    "    headings = next(rows)     # Skip headers\n",
    "    for row in rows:\n",
    "        print(row)"
   ]
  },
  {
   "cell_type": "markdown",
   "metadata": {},
   "source": [
    "## Exception"
   ]
  },
  {
   "cell_type": "code",
   "execution_count": 1,
   "metadata": {},
   "outputs": [
    {
     "name": "stdout",
     "output_type": "stream",
     "text": [
      "\n",
      "I just want to say thank you\n"
     ]
    }
   ],
   "source": [
    "try:\n",
    "    with open(\"data/words.txt\", \"rb\") as f:\n",
    "        data = f.read()\n",
    "        data = data.decode('utf-8')\n",
    "        print(data)\n",
    "        # for line in data:\n",
    "        #     a,b,c,d = line.split(\"++\")\n",
    "# except ValueError as e:\n",
    "#     print(\"Oke\")\n",
    "# except TypeError as e:\n",
    "#     print(\"Oke\")\n",
    "except Exception as e:\n",
    "    print(\"Fail by reason \", e)\n",
    "finally:\n",
    "    print(\"I just want to say thank you\")"
   ]
  },
  {
   "cell_type": "markdown",
   "metadata": {},
   "source": [
    "## Basic Function"
   ]
  },
  {
   "cell_type": "code",
   "execution_count": 3,
   "metadata": {},
   "outputs": [],
   "source": [
    "def basicfunc(name):\n",
    "    greeting = f\"Hello  {name}\"\n",
    "    return greeting"
   ]
  },
  {
   "cell_type": "code",
   "execution_count": 5,
   "metadata": {},
   "outputs": [],
   "source": [
    "def func(param1, param2, param3=\"chào\", param4=[]):\n",
    "    \"\"\"_summary_\n",
    "\n",
    "    Args:\n",
    "        param1 (_type_): positional args \n",
    "        param2 (_type_): positional args\n",
    "        param3 (str, optional): keywords args. Defaults to \"Hello\".\n",
    "        param4 (list, optional): keywords args. Defaults to [].\n",
    "    \"\"\"\n",
    "    sum_param = param1 + param2 \n",
    "    greeting = f\"{param3}\".join(x for x in param4)\n",
    "    return sum_param, greeting"
   ]
  },
  {
   "cell_type": "code",
   "execution_count": 6,
   "metadata": {},
   "outputs": [
    {
     "data": {
      "text/plain": [
       "'SangchàoHung'"
      ]
     },
     "execution_count": 6,
     "metadata": {},
     "output_type": "execute_result"
    }
   ],
   "source": [
    "_, greeting = func(1,99, param4=[\"Sang\", \"Hung\"])\n",
    "greeting"
   ]
  },
  {
   "cell_type": "code",
   "execution_count": 8,
   "metadata": {},
   "outputs": [
    {
     "name": "stdout",
     "output_type": "stream",
     "text": [
      "SangchàoHungSangchàoHungSangchàoHungSangchàoHungSangchàoHungSangchàoHungSangchàoHungSangchàoHungSangchàoHungSangchàoHungSangchàoHungSangchàoHungSangchàoHungSangchàoHungSangchàoHungSangchàoHungSangchàoHungSangchàoHungSangchàoHungSangchàoHungSangchàoHungSangchàoHungSangchàoHungSangchàoHungSangchàoHungSangchàoHungSangchàoHungSangchàoHungSangchàoHungSangchàoHungSangchàoHungSangchàoHungSangchàoHungSangchàoHungSangchàoHungSangchàoHungSangchàoHungSangchàoHungSangchàoHungSangchàoHungSangchàoHungSangchàoHungSangchàoHungSangchàoHungSangchàoHungSangchàoHungSangchàoHungSangchàoHungSangchàoHungSangchàoHungSangchàoHungSangchàoHungSangchàoHungSangchàoHungSangchàoHungSangchàoHungSangchàoHungSangchàoHungSangchàoHungSangchàoHungSangchàoHungSangchàoHungSangchàoHungSangchàoHungSangchàoHungSangchàoHungSangchàoHungSangchàoHungSangchàoHungSangchàoHungSangchàoHungSangchàoHungSangchàoHungSangchàoHungSangchàoHungSangchàoHungSangchàoHungSangchàoHungSangchàoHungSangchàoHungSangchàoHungSangchàoHungSangchàoHungSangchàoHungSangchàoHungSangchàoHungSangchàoHungSangchàoHungSangchàoHungSangchàoHungSangchàoHungSangchàoHungSangchàoHungSangchàoHungSangchàoHungSangchàoHungSangchàoHungSangchàoHungSangchàoHungSangchàoHung\n"
     ]
    }
   ],
   "source": [
    "total, greeting = func(1,99, param4=[\"Sang\", \"Hung\"])\n",
    "print(greeting*total)"
   ]
  },
  {
   "cell_type": "code",
   "execution_count": null,
   "metadata": {},
   "outputs": [],
   "source": []
  }
 ],
 "metadata": {
  "kernelspec": {
   "display_name": "pytorch_dl",
   "language": "python",
   "name": "pytorch_dl"
  },
  "language_info": {
   "codemirror_mode": {
    "name": "ipython",
    "version": 3
   },
   "file_extension": ".py",
   "mimetype": "text/x-python",
   "name": "python",
   "nbconvert_exporter": "python",
   "pygments_lexer": "ipython3",
   "version": "3.8.16"
  },
  "orig_nbformat": 4
 },
 "nbformat": 4,
 "nbformat_minor": 2
}
